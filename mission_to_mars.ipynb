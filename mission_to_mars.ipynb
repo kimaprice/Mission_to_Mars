{
 "cells": [
  {
   "cell_type": "markdown",
   "id": "1ae51685",
   "metadata": {},
   "source": [
    "# Mission to Mars"
   ]
  },
  {
   "cell_type": "markdown",
   "id": "0eb6aafe",
   "metadata": {},
   "source": [
    "### Part 1: Scraping the information from\n",
    "\n",
    "* Mars New Site: https://redplanetscience.com/\n",
    "* Mars Images site: https://spaceimages-mars.com/\n",
    "* Mars Facts page: https://galaxyfacts-mars.com/\n",
    "* Mars Hemispheres images: https://marshemispheres.com/"
   ]
  },
  {
   "cell_type": "code",
   "execution_count": 83,
   "id": "846f3daa",
   "metadata": {},
   "outputs": [],
   "source": [
    "# Dependencies\n",
    "import pandas as pd\n",
    "from splinter import Browser\n",
    "from bs4 import BeautifulSoup\n",
    "from webdriver_manager.chrome import ChromeDriverManager\n",
    "import requests\n",
    "import os"
   ]
  },
  {
   "cell_type": "markdown",
   "id": "b9933d46",
   "metadata": {},
   "source": [
    "#### 1a: Mars New Site: https://redplanetscience.com/\n",
    "* Get the latest article title\n",
    "* Get the latest article description paragraph"
   ]
  },
  {
   "cell_type": "code",
   "execution_count": 84,
   "id": "bac29bad",
   "metadata": {},
   "outputs": [],
   "source": [
    "#Open the browswer window - set up splinter\n",
    "executable_path = {'executable_path': ChromeDriverManager().install()}\n",
    "browser = Browser('chrome', **executable_path, headless=False)"
   ]
  },
  {
   "cell_type": "code",
   "execution_count": 85,
   "id": "cc827a39",
   "metadata": {},
   "outputs": [],
   "source": [
    "# set URL to scrape\n",
    "url = 'https://redplanetscience.com/'\n",
    "\n",
    "# open the page in browswer\n",
    "browser.visit(url)"
   ]
  },
  {
   "cell_type": "code",
   "execution_count": 86,
   "id": "3230db5c",
   "metadata": {},
   "outputs": [],
   "source": [
    "# Create BeautifulSoup object; parse with 'html.parser'\n",
    "html = browser.html\n",
    "soup = BeautifulSoup(html, 'html.parser')"
   ]
  },
  {
   "cell_type": "code",
   "execution_count": 87,
   "id": "a1f0f7cc",
   "metadata": {},
   "outputs": [],
   "source": [
    "#Locate the section containing the news articles\n",
    "container = soup.find('section', class_='image_and_description_container')\n",
    "\n",
    "#Locate the title and descriptive paragraph for the first article and save to variables\n",
    "news = container.find('div', class_='content_title').text\n",
    "news_p = container.find('div', class_='article_teaser_body').text\n"
   ]
  },
  {
   "cell_type": "code",
   "execution_count": 88,
   "id": "17df134e",
   "metadata": {},
   "outputs": [],
   "source": [
    "browser.quit()"
   ]
  },
  {
   "cell_type": "markdown",
   "id": "cf31f3b9",
   "metadata": {},
   "source": [
    "#### 1b: Mars Images site: https://spaceimages-mars.com/\n",
    "* Get the URL for the featured Mars image (full sized)"
   ]
  },
  {
   "cell_type": "code",
   "execution_count": 89,
   "id": "188a69b4",
   "metadata": {},
   "outputs": [],
   "source": [
    "#Open the browswer window - set up splinter\n",
    "executable_path = {'executable_path': ChromeDriverManager().install()}\n",
    "browser = Browser('chrome', **executable_path, headless=False)"
   ]
  },
  {
   "cell_type": "code",
   "execution_count": 90,
   "id": "5c26f123",
   "metadata": {},
   "outputs": [],
   "source": [
    "# set URL to scrape\n",
    "url = 'https://spaceimages-mars.com/'\n",
    "\n",
    "# open the page in browswer\n",
    "browser.visit(url)"
   ]
  },
  {
   "cell_type": "code",
   "execution_count": 91,
   "id": "34cd8763",
   "metadata": {},
   "outputs": [],
   "source": [
    "# Create BeautifulSoup object; parse with 'html.parser'\n",
    "html = browser.html\n",
    "soup = BeautifulSoup(html, 'html.parser')"
   ]
  },
  {
   "cell_type": "code",
   "execution_count": 111,
   "id": "c0b41fe9",
   "metadata": {},
   "outputs": [],
   "source": [
    "image = soup.find('div', class_ = \"floating_text_area\").a['href']\n",
    "featured_image_url = f'{url}{image}'"
   ]
  },
  {
   "cell_type": "markdown",
   "id": "28e54159",
   "metadata": {},
   "source": [
    "#### 1c: Mars Facts page: https://galaxyfacts-mars.com/\n",
    "* Get the table comtaining Mars facts (diamter, mass, etc)\n",
    "* Use Pandas to convert to and HTML table string"
   ]
  },
  {
   "cell_type": "markdown",
   "id": "574ae597",
   "metadata": {},
   "source": [
    "####  1d: Mars Hemispheres images: https://marshemispheres.com/\n",
    "* Get the urls for each of the hemispheres (full resolution image)\n",
    "* store the hemisphere title and URL string to a list with one dictionary for each hemisphere"
   ]
  },
  {
   "cell_type": "code",
   "execution_count": null,
   "id": "611e2675",
   "metadata": {},
   "outputs": [],
   "source": []
  }
 ],
 "metadata": {
  "kernelspec": {
   "display_name": "Python 3 (ipykernel)",
   "language": "python",
   "name": "python3"
  },
  "language_info": {
   "codemirror_mode": {
    "name": "ipython",
    "version": 3
   },
   "file_extension": ".py",
   "mimetype": "text/x-python",
   "name": "python",
   "nbconvert_exporter": "python",
   "pygments_lexer": "ipython3",
   "version": "3.8.13"
  }
 },
 "nbformat": 4,
 "nbformat_minor": 5
}
